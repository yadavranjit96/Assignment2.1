{
 "cells": [
  {
   "cell_type": "code",
   "execution_count": 3,
   "metadata": {},
   "outputs": [
    {
     "name": "stdout",
     "output_type": "stream",
     "text": [
      "120\n"
     ]
    }
   ],
   "source": [
    "def myreduce(fnc,seq):\n",
    "    tally=seq[0]\n",
    "    for i in seq[1:]:\n",
    "        tally=fnc(tally,i)\n",
    "    return tally\n",
    "print(myreduce((lambda x,y:x*y),[1,2,3,4,5]))"
   ]
  },
  {
   "cell_type": "code",
   "execution_count": 4,
   "metadata": {},
   "outputs": [
    {
     "name": "stdout",
     "output_type": "stream",
     "text": [
      "The even numbers are:\n",
      "[2, 4, 6, 8]\n"
     ]
    }
   ],
   "source": [
    "def myfilter(fnc, seq):\n",
    "    lst=[]\n",
    "    for i in seq:\n",
    "        if fnc(i) and i>0:\n",
    "            lst.append(i)\n",
    "    return lst\n",
    "\n",
    "print('The even numbers are:')\n",
    "print(myfilter((lambda x: x%2==0), [1,2,3,4,5,6,7,8]))"
   ]
  }
 ],
 "metadata": {
  "kernelspec": {
   "display_name": "Python 3",
   "language": "python",
   "name": "python3"
  },
  "language_info": {
   "codemirror_mode": {
    "name": "ipython",
    "version": 3
   },
   "file_extension": ".py",
   "mimetype": "text/x-python",
   "name": "python",
   "nbconvert_exporter": "python",
   "pygments_lexer": "ipython3",
   "version": "3.6.4"
  }
 },
 "nbformat": 4,
 "nbformat_minor": 2
}
